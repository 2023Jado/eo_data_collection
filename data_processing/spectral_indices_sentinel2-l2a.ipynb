{
 "cells": [
  {
   "cell_type": "markdown",
   "id": "71f9de48-9cda-48f5-b872-f5c52099d42f",
   "metadata": {},
   "source": [
    "# Spectral indices--Sentinel-2l2a"
   ]
  },
  {
   "cell_type": "code",
   "execution_count": 1,
   "id": "66dc96b9-6528-40a4-a4a6-f26743b514ea",
   "metadata": {},
   "outputs": [],
   "source": [
    "import numpy as np\n",
    "import rasterio\n",
    "from pathlib import Path"
   ]
  },
  {
   "cell_type": "code",
   "execution_count": 2,
   "id": "035ccf7d-531b-45d2-a3c2-38e9703d3b6c",
   "metadata": {},
   "outputs": [],
   "source": [
    "# Set paths\n",
    "input_dir = Path(\"G:/Semester4/Innolab/datacube_rwanda/data/sentinel2_l2a_cloud_masked\")\n",
    "output_dir = Path(\"G:/Semester4/Innolab/eoAPI/data/sentinel2_l2a_indices\")"
   ]
  },
  {
   "cell_type": "code",
   "execution_count": 3,
   "id": "54aee891-ab18-461c-9443-4c9da48b7950",
   "metadata": {},
   "outputs": [],
   "source": [
    "def calculate_ndvi(nir, red):\n",
    "    \"\"\"Calculate NDVI: (NIR - RED)/(NIR + RED)\"\"\"\n",
    "    return (nir - red) / (nir + red + 1e-10)\n",
    "\n",
    "def calculate_ndwi(green, nir):\n",
    "    \"\"\"Calculate NDWI: (GREEN - NIR)/(GREEN + NIR)\"\"\"\n",
    "    return (green - nir) / (green + nir + 1e-10)\n",
    "\n",
    "def calculate_savi(nir, red, L=0.5):\n",
    "    \"\"\"Calculate SAVI: ((NIR - RED)/(NIR + RED + L)) * (1 + L)\"\"\"\n",
    "    return ((nir - red) / (nir + red + L + 1e-10)) * (1 + L)"
   ]
  },
  {
   "cell_type": "markdown",
   "id": "a80ef1a0-f7eb-4d4c-a1dd-09292ab8eb7b",
   "metadata": {},
   "source": [
    "## Process spectral indices for a specific scene"
   ]
  },
  {
   "cell_type": "code",
   "execution_count": 8,
   "id": "516153e2-0d54-41c6-b12c-ae980c9b7b25",
   "metadata": {},
   "outputs": [],
   "source": [
    "def process_indices_for_scene(scene_dir, output_dir):\n",
    "    date_str = scene_dir.name\n",
    "    indices_dir = output_dir / date_str\n",
    "    indices_dir.mkdir(parents=True, exist_ok=True)\n",
    "\n",
    "    try:\n",
    "        nir_path = scene_dir / \"B08.tif\"\n",
    "        red_path = scene_dir / \"B04.tif\"\n",
    "        green_path = scene_dir / \"B03.tif\"\n",
    "\n",
    "        if not nir_path.exists() or not red_path.exists() or not green_path.exists():\n",
    "            print(f\"Skipping {date_str} due to missing bands.\")\n",
    "            return None\n",
    "\n",
    "        with rasterio.open(nir_path) as nir_src:\n",
    "            nir = nir_src.read(1).astype(np.float32) / 10000\n",
    "            profile = nir_src.profile.copy()\n",
    "\n",
    "        with rasterio.open(red_path) as red_src:\n",
    "            red = red_src.read(1).astype(np.float32) / 10000\n",
    "\n",
    "        with rasterio.open(green_path) as green_src:\n",
    "            green = green_src.read(1).astype(np.float32) / 10000\n",
    "\n",
    "        # Calculate indices\n",
    "        ndvi = calculate_ndvi(nir, red)\n",
    "        ndwi = calculate_ndwi(green, nir)\n",
    "        savi = calculate_savi(nir, red)\n",
    "\n",
    "        # Update profile for saving\n",
    "        profile.update(dtype=rasterio.float32, nodata=-9999)\n",
    "\n",
    "        # Save indices\n",
    "        indices = {'ndvi': ndvi, 'ndwi': ndwi, 'savi': savi}\n",
    "        for name, data in indices.items():\n",
    "            output_path = indices_dir / f\"{name}.tif\"\n",
    "            with rasterio.open(output_path, 'w', **profile) as dst:\n",
    "                dst.write(data, 1)\n",
    "\n",
    "        print(f\"Successfully processed indices for {date_str}\")\n",
    "        return indices_dir\n",
    "    except Exception as e:\n",
    "        print(f\"Error processing indices for {date_str}: {str(e)}\")\n",
    "        return None"
   ]
  },
  {
   "cell_type": "markdown",
   "id": "a5625e80-fe2f-46a2-aec7-b704f68c9ee1",
   "metadata": {},
   "source": [
    "## Process spectral indices for all available scenes"
   ]
  },
  {
   "cell_type": "code",
   "execution_count": 11,
   "id": "c1a27596-45ba-4ca9-9230-839b918e9343",
   "metadata": {},
   "outputs": [],
   "source": [
    "def process_all_scenes_for_indices(input_dir, output_dir):\n",
    "    input_dir = Path(input_dir)\n",
    "    output_dir = Path(output_dir)\n",
    "    processed_dirs = []\n",
    "    for scene_dir in input_dir.iterdir():\n",
    "        if scene_dir.is_dir():\n",
    "            result = process_indices_for_scene(scene_dir, output_dir)\n",
    "            if result:\n",
    "                processed_dirs.append(result)\n",
    "    return processed_dirs"
   ]
  },
  {
   "cell_type": "code",
   "execution_count": 13,
   "id": "7318d08e-7f3a-4c92-b557-fa7ce6cd2cce",
   "metadata": {},
   "outputs": [
    {
     "name": "stdout",
     "output_type": "stream",
     "text": [
      "Skipping S2A_MSIL2A_20240531T080611_R078_T35MQU_20240531T150446 due to missing bands.\n",
      "Skipping S2A_MSIL2A_20240610T080611_R078_T35MRU_20240610T142004 due to missing bands.\n",
      "Skipping S2A_MSIL2A_20240620T080611_R078_T35MQU_20240620T135853 due to missing bands.\n",
      "Skipping S2A_MSIL2A_20240620T080611_R078_T35MRU_20240620T135115 due to missing bands.\n",
      "Skipping S2A_MSIL2A_20240630T080611_R078_T35MQU_20240701T185708 due to missing bands.\n",
      "Skipping S2A_MSIL2A_20240630T080611_R078_T35MRU_20240701T190110 due to missing bands.\n",
      "Skipping S2A_MSIL2A_20240630T080611_R078_T35MRU_20240701T190926 due to missing bands.\n",
      "Successfully processed indices for S2A_MSIL2A_20240819T080611_R078_T35MQU_20240819T130750\n",
      "Skipping S2B_MSIL2A_20240127T081119_R078_T35MRU_20240127T120827 due to missing bands.\n",
      "Skipping S2B_MSIL2A_20240307T080759_R078_T35MRU_20240307T123828 due to missing bands.\n",
      "Skipping S2B_MSIL2A_20240317T080649_R078_T35MQU_20240317T121450 due to missing bands.\n",
      "Skipping S2B_MSIL2A_20240317T080649_R078_T35MRU_20240317T114656 due to missing bands.\n",
      "Skipping S2B_MSIL2A_20240605T080609_R078_T35MQU_20240605T114949 due to missing bands.\n",
      "Skipping S2B_MSIL2A_20240615T080609_R078_T35MRU_20240615T125810 due to missing bands.\n",
      "Skipping S2B_MSIL2A_20240625T080609_R078_T35MQU_20240625T124058 due to missing bands.\n",
      "Skipping S2B_MSIL2A_20240625T080609_R078_T35MRU_20240625T124121 due to missing bands.\n",
      "Skipping S2B_MSIL2A_20240705T080609_R078_T35MQU_20240706T024953 due to missing bands.\n",
      "Successfully processed indices for S2B_MSIL2A_20240705T080609_R078_T35MRU_20240706T024811\n",
      "Successfully processed indices for S2B_MSIL2A_20240715T080609_R078_T35MRU_20240715T131113\n",
      "Successfully processed indices for S2B_MSIL2A_20240725T080609_R078_T35MQU_20240725T102837\n",
      "Successfully processed indices for S2B_MSIL2A_20240725T080609_R078_T35MRU_20240725T102837\n",
      "Successfully processed indices for S2B_MSIL2A_20240804T080609_R078_T35MQU_20240804T111459\n",
      "Successfully processed indices for S2B_MSIL2A_20240804T080609_R078_T35MRU_20240804T111459\n",
      "Successfully processed indices for S2B_MSIL2A_20240903T080609_R078_T35MQU_20240903T113513\n",
      "Successfully processed indices for S2B_MSIL2A_20240903T080609_R078_T35MRU_20240903T113513\n",
      "Successfully processed indices for S2B_MSIL2A_20241013T080809_R078_T35MQU_20241013T104457\n"
     ]
    },
    {
     "data": {
      "text/plain": [
       "[WindowsPath('G:/Semester4/Innolab/eoAPI/data/sentinel2_l2a_indices/S2A_MSIL2A_20240819T080611_R078_T35MQU_20240819T130750'),\n",
       " WindowsPath('G:/Semester4/Innolab/eoAPI/data/sentinel2_l2a_indices/S2B_MSIL2A_20240705T080609_R078_T35MRU_20240706T024811'),\n",
       " WindowsPath('G:/Semester4/Innolab/eoAPI/data/sentinel2_l2a_indices/S2B_MSIL2A_20240715T080609_R078_T35MRU_20240715T131113'),\n",
       " WindowsPath('G:/Semester4/Innolab/eoAPI/data/sentinel2_l2a_indices/S2B_MSIL2A_20240725T080609_R078_T35MQU_20240725T102837'),\n",
       " WindowsPath('G:/Semester4/Innolab/eoAPI/data/sentinel2_l2a_indices/S2B_MSIL2A_20240725T080609_R078_T35MRU_20240725T102837'),\n",
       " WindowsPath('G:/Semester4/Innolab/eoAPI/data/sentinel2_l2a_indices/S2B_MSIL2A_20240804T080609_R078_T35MQU_20240804T111459'),\n",
       " WindowsPath('G:/Semester4/Innolab/eoAPI/data/sentinel2_l2a_indices/S2B_MSIL2A_20240804T080609_R078_T35MRU_20240804T111459'),\n",
       " WindowsPath('G:/Semester4/Innolab/eoAPI/data/sentinel2_l2a_indices/S2B_MSIL2A_20240903T080609_R078_T35MQU_20240903T113513'),\n",
       " WindowsPath('G:/Semester4/Innolab/eoAPI/data/sentinel2_l2a_indices/S2B_MSIL2A_20240903T080609_R078_T35MRU_20240903T113513'),\n",
       " WindowsPath('G:/Semester4/Innolab/eoAPI/data/sentinel2_l2a_indices/S2B_MSIL2A_20241013T080809_R078_T35MQU_20241013T104457')]"
      ]
     },
     "execution_count": 13,
     "metadata": {},
     "output_type": "execute_result"
    }
   ],
   "source": [
    "# Run processing\n",
    "process_all_scenes_for_indices(input_dir, output_dir)"
   ]
  },
  {
   "cell_type": "code",
   "execution_count": null,
   "id": "064365df-6d68-4469-b419-1910442665c5",
   "metadata": {},
   "outputs": [],
   "source": []
  }
 ],
 "metadata": {
  "kernelspec": {
   "display_name": "Python 3 (ipykernel)",
   "language": "python",
   "name": "python3"
  },
  "language_info": {
   "codemirror_mode": {
    "name": "ipython",
    "version": 3
   },
   "file_extension": ".py",
   "mimetype": "text/x-python",
   "name": "python",
   "nbconvert_exporter": "python",
   "pygments_lexer": "ipython3",
   "version": "3.11.11"
  }
 },
 "nbformat": 4,
 "nbformat_minor": 5
}
