{
 "cells": [
  {
   "cell_type": "markdown",
   "id": "a0d2f27a-b049-4da3-9100-589db5264755",
   "metadata": {},
   "source": [
    "# Sentinel-2l2a with no clouds"
   ]
  },
  {
   "cell_type": "code",
   "execution_count": 19,
   "id": "a4092677-c418-47ec-85a7-580ee80f69ec",
   "metadata": {},
   "outputs": [],
   "source": [
    "import numpy as np\n",
    "import rasterio\n",
    "from pathlib import Path\n",
    "from rasterio.enums import Resampling"
   ]
  },
  {
   "cell_type": "code",
   "execution_count": 21,
   "id": "ca864dcb-981e-42c2-8059-3f5f376c5e69",
   "metadata": {},
   "outputs": [],
   "source": [
    "# Set paths\n",
    "input_dir = Path(\"G:/Semester4/Innolab/datacube_rwanda/data/sentinel2_l2a\")\n",
    "output_dir = Path(\"G:/Semester4/Innolab/datacube_rwanda/data/sentinel2_l2a_cloud_masked\")"
   ]
  },
  {
   "cell_type": "markdown",
   "id": "275aeb97-b2c2-4199-af31-778a63d81551",
   "metadata": {},
   "source": [
    "## Create cloud mask from SCL band"
   ]
  },
  {
   "cell_type": "code",
   "execution_count": 24,
   "id": "59969eaf-edf8-443a-8fa2-6368622e153f",
   "metadata": {},
   "outputs": [],
   "source": [
    "def get_cloud_mask(scl_band):\n",
    "    valid_mask = ~np.isin(scl_band, [1, 3, 8, 9, 10])  # Keep non-cloudy pixels\n",
    "    return valid_mask\n"
   ]
  },
  {
   "cell_type": "markdown",
   "id": "bd5bfa53-78ad-4679-a332-4b603f3767ad",
   "metadata": {},
   "source": [
    "## Resample SCL band to match the shape of the target band"
   ]
  },
  {
   "cell_type": "code",
   "execution_count": 27,
   "id": "23388e34-8d57-4415-b920-a6a31bfc27fa",
   "metadata": {},
   "outputs": [],
   "source": [
    "\n",
    "def resample_scl(scl_path, target_shape):\n",
    "    with rasterio.open(scl_path) as scl_src:\n",
    "        scl_data = scl_src.read(1, out_shape=target_shape, resampling=Resampling.nearest)\n",
    "    return scl_data"
   ]
  },
  {
   "cell_type": "markdown",
   "id": "1d6efc93-163d-411b-9e8c-9243a32d3217",
   "metadata": {},
   "source": [
    "## Apply cloud masking to all bands for a specific scene"
   ]
  },
  {
   "cell_type": "code",
   "execution_count": 30,
   "id": "e3bd2659-415a-4c59-ba97-c68d9d387aed",
   "metadata": {},
   "outputs": [],
   "source": [
    "def mask_clouds_for_scene(scene_dir, output_dir):\n",
    "    date_str = scene_dir.name\n",
    "    masked_dir = output_dir / date_str\n",
    "    masked_dir.mkdir(parents=True, exist_ok=True)\n",
    "\n",
    "    scl_files = list(scene_dir.glob(\"*SCL*.tif\"))\n",
    "    if not scl_files:\n",
    "        print(f\"SCL band not found for {date_str}, skipping...\")\n",
    "        return None\n",
    "\n",
    "    scl_path = scl_files[0]\n",
    "    for band_file in scene_dir.glob(\"B*.tif\"):  # Match B01.tif, B02.tif, etc.\n",
    "        if 'SCL' in band_file.name:\n",
    "            continue\n",
    "\n",
    "        with rasterio.open(band_file) as src:\n",
    "            data = src.read(1)\n",
    "            profile = src.profile.copy()\n",
    "            target_shape = (1, data.shape[0], data.shape[1])\n",
    "            \n",
    "            scl_resampled = resample_scl(scl_path, target_shape[1:])\n",
    "            cloud_mask = get_cloud_mask(scl_resampled)\n",
    "            \n",
    "            masked_data = np.where(cloud_mask, data, profile['nodata'])\n",
    "            output_path = masked_dir / band_file.name\n",
    "            \n",
    "            with rasterio.open(output_path, 'w', **profile) as dst:\n",
    "                dst.write(masked_data, 1)\n",
    "    \n",
    "    print(f\"Cloud masking applied for {date_str}\")\n",
    "    return masked_dir"
   ]
  },
  {
   "cell_type": "markdown",
   "id": "b1cfe2e3-2cf1-4fd9-8f5e-39f8776407a6",
   "metadata": {},
   "source": [
    "## Process all scenes in the input directory"
   ]
  },
  {
   "cell_type": "code",
   "execution_count": 33,
   "id": "d8c7c9c9-0826-46b5-8fa5-b0d288df7fdf",
   "metadata": {},
   "outputs": [],
   "source": [
    "def process_all_scenes(input_dir, output_dir):\n",
    "    input_dir = Path(input_dir)\n",
    "    output_dir = Path(output_dir)\n",
    "    \n",
    "    masked_dirs = []\n",
    "    for scene_dir in input_dir.iterdir():\n",
    "        if scene_dir.is_dir():\n",
    "            result = mask_clouds_for_scene(scene_dir, output_dir)\n",
    "            if result:\n",
    "                masked_dirs.append(result)\n",
    "    return masked_dirs"
   ]
  },
  {
   "cell_type": "code",
   "execution_count": 35,
   "id": "d2baeeae-eb96-4d26-8efd-816fee45465d",
   "metadata": {},
   "outputs": [
    {
     "name": "stdout",
     "output_type": "stream",
     "text": [
      "SCL band not found for S2A_MSIL2A_20240531T080611_R078_T35MQU_20240531T150446, skipping...\n",
      "SCL band not found for S2A_MSIL2A_20240610T080611_R078_T35MRU_20240610T142004, skipping...\n",
      "SCL band not found for S2A_MSIL2A_20240620T080611_R078_T35MQU_20240620T135853, skipping...\n",
      "SCL band not found for S2A_MSIL2A_20240620T080611_R078_T35MRU_20240620T135115, skipping...\n",
      "SCL band not found for S2A_MSIL2A_20240630T080611_R078_T35MQU_20240701T185708, skipping...\n",
      "SCL band not found for S2A_MSIL2A_20240630T080611_R078_T35MRU_20240701T190110, skipping...\n",
      "SCL band not found for S2A_MSIL2A_20240630T080611_R078_T35MRU_20240701T190926, skipping...\n",
      "Cloud masking applied for S2A_MSIL2A_20240819T080611_R078_T35MQU_20240819T130750\n",
      "SCL band not found for S2B_MSIL2A_20240127T081119_R078_T35MRU_20240127T120827, skipping...\n",
      "SCL band not found for S2B_MSIL2A_20240307T080759_R078_T35MRU_20240307T123828, skipping...\n",
      "SCL band not found for S2B_MSIL2A_20240317T080649_R078_T35MQU_20240317T121450, skipping...\n",
      "SCL band not found for S2B_MSIL2A_20240317T080649_R078_T35MRU_20240317T114656, skipping...\n",
      "SCL band not found for S2B_MSIL2A_20240605T080609_R078_T35MQU_20240605T114949, skipping...\n",
      "SCL band not found for S2B_MSIL2A_20240615T080609_R078_T35MRU_20240615T125810, skipping...\n",
      "SCL band not found for S2B_MSIL2A_20240625T080609_R078_T35MQU_20240625T124058, skipping...\n",
      "SCL band not found for S2B_MSIL2A_20240625T080609_R078_T35MRU_20240625T124121, skipping...\n",
      "SCL band not found for S2B_MSIL2A_20240705T080609_R078_T35MQU_20240706T024953, skipping...\n",
      "Cloud masking applied for S2B_MSIL2A_20240705T080609_R078_T35MRU_20240706T024811\n",
      "Cloud masking applied for S2B_MSIL2A_20240715T080609_R078_T35MRU_20240715T131113\n",
      "Cloud masking applied for S2B_MSIL2A_20240725T080609_R078_T35MQU_20240725T102837\n",
      "Cloud masking applied for S2B_MSIL2A_20240725T080609_R078_T35MRU_20240725T102837\n",
      "Cloud masking applied for S2B_MSIL2A_20240804T080609_R078_T35MQU_20240804T111459\n",
      "Cloud masking applied for S2B_MSIL2A_20240804T080609_R078_T35MRU_20240804T111459\n",
      "Cloud masking applied for S2B_MSIL2A_20240903T080609_R078_T35MQU_20240903T113513\n",
      "Cloud masking applied for S2B_MSIL2A_20240903T080609_R078_T35MRU_20240903T113513\n",
      "Cloud masking applied for S2B_MSIL2A_20241013T080809_R078_T35MQU_20241013T104457\n"
     ]
    },
    {
     "data": {
      "text/plain": [
       "[WindowsPath('G:/Semester4/Innolab/datacube_rwanda/data/sentinel2_l2a_cloud_masked/S2A_MSIL2A_20240819T080611_R078_T35MQU_20240819T130750'),\n",
       " WindowsPath('G:/Semester4/Innolab/datacube_rwanda/data/sentinel2_l2a_cloud_masked/S2B_MSIL2A_20240705T080609_R078_T35MRU_20240706T024811'),\n",
       " WindowsPath('G:/Semester4/Innolab/datacube_rwanda/data/sentinel2_l2a_cloud_masked/S2B_MSIL2A_20240715T080609_R078_T35MRU_20240715T131113'),\n",
       " WindowsPath('G:/Semester4/Innolab/datacube_rwanda/data/sentinel2_l2a_cloud_masked/S2B_MSIL2A_20240725T080609_R078_T35MQU_20240725T102837'),\n",
       " WindowsPath('G:/Semester4/Innolab/datacube_rwanda/data/sentinel2_l2a_cloud_masked/S2B_MSIL2A_20240725T080609_R078_T35MRU_20240725T102837'),\n",
       " WindowsPath('G:/Semester4/Innolab/datacube_rwanda/data/sentinel2_l2a_cloud_masked/S2B_MSIL2A_20240804T080609_R078_T35MQU_20240804T111459'),\n",
       " WindowsPath('G:/Semester4/Innolab/datacube_rwanda/data/sentinel2_l2a_cloud_masked/S2B_MSIL2A_20240804T080609_R078_T35MRU_20240804T111459'),\n",
       " WindowsPath('G:/Semester4/Innolab/datacube_rwanda/data/sentinel2_l2a_cloud_masked/S2B_MSIL2A_20240903T080609_R078_T35MQU_20240903T113513'),\n",
       " WindowsPath('G:/Semester4/Innolab/datacube_rwanda/data/sentinel2_l2a_cloud_masked/S2B_MSIL2A_20240903T080609_R078_T35MRU_20240903T113513'),\n",
       " WindowsPath('G:/Semester4/Innolab/datacube_rwanda/data/sentinel2_l2a_cloud_masked/S2B_MSIL2A_20241013T080809_R078_T35MQU_20241013T104457')]"
      ]
     },
     "execution_count": 35,
     "metadata": {},
     "output_type": "execute_result"
    }
   ],
   "source": [
    "# Run processing\n",
    "process_all_scenes(input_dir, output_dir)"
   ]
  },
  {
   "cell_type": "code",
   "execution_count": null,
   "id": "ef21457a-b5ec-4f7c-b942-ccfb53135a73",
   "metadata": {},
   "outputs": [],
   "source": []
  }
 ],
 "metadata": {
  "kernelspec": {
   "display_name": "Python 3 (ipykernel)",
   "language": "python",
   "name": "python3"
  },
  "language_info": {
   "codemirror_mode": {
    "name": "ipython",
    "version": 3
   },
   "file_extension": ".py",
   "mimetype": "text/x-python",
   "name": "python",
   "nbconvert_exporter": "python",
   "pygments_lexer": "ipython3",
   "version": "3.11.11"
  }
 },
 "nbformat": 4,
 "nbformat_minor": 5
}
